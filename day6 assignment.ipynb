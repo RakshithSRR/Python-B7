{
 "cells": [
  {
   "cell_type": "code",
   "execution_count": 11,
   "metadata": {
    "scrolled": true
   },
   "outputs": [
    {
     "ename": "IndentationError",
     "evalue": "expected an indented block (<ipython-input-11-015aa04f8fc1>, line 3)",
     "output_type": "error",
     "traceback": [
      "\u001b[1;36m  File \u001b[1;32m\"<ipython-input-11-015aa04f8fc1>\"\u001b[1;36m, line \u001b[1;32m3\u001b[0m\n\u001b[1;33m    def _init_(self,owner,balance=0):\u001b[0m\n\u001b[1;37m      ^\u001b[0m\n\u001b[1;31mIndentationError\u001b[0m\u001b[1;31m:\u001b[0m expected an indented block\n"
     ]
    }
   ],
   "source": [
    "class account():\n",
    "    \n",
    "def _init_(self,owner,balance=0):\n",
    "        self.owner = owner\n",
    "        self.balance = balance\n",
    "        \n",
    "def deposit(self,dep_amt):\n",
    "    self.balance += dep_amt\n",
    "    print(\"added {} to the balance\".format(dep_amt))\n",
    "def withdral(self,wd_amt):\n",
    "    \n",
    "    if self.balance >= wd_amt\n",
    "       self.balance -= wd_amt\n",
    "        print(\"withdral accepted\")\n",
    "    else\n",
    "        print(\"sorry no funds\")\n",
    "def_str_(self):\n",
    "    return f\"owner:{self.owner} \\nbalance:{self.balance}\""
   ]
  },
  {
   "cell_type": "code",
   "execution_count": null,
   "metadata": {},
   "outputs": [],
   "source": []
  },
  {
   "cell_type": "code",
   "execution_count": null,
   "metadata": {},
   "outputs": [],
   "source": []
  }
 ],
 "metadata": {
  "kernelspec": {
   "display_name": "Python 3",
   "language": "python",
   "name": "python3"
  },
  "language_info": {
   "codemirror_mode": {
    "name": "ipython",
    "version": 3
   },
   "file_extension": ".py",
   "mimetype": "text/x-python",
   "name": "python",
   "nbconvert_exporter": "python",
   "pygments_lexer": "ipython3",
   "version": "3.7.6"
  }
 },
 "nbformat": 4,
 "nbformat_minor": 4
}
